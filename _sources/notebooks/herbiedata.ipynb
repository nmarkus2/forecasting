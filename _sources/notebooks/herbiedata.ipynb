{
 "cells": [
  {
   "cell_type": "markdown",
   "id": "25410b9f-3bc8-4002-b5fd-a50cfd406475",
   "metadata": {},
   "source": [
    "# Visualizing HRRR Model Data Over a General Area Using Herbie\n",
    "In this notebook we will download and plot HRRR wind data for the wind profiler and sodar sites."
   ]
  },
  {
   "cell_type": "code",
   "execution_count": 1,
   "id": "5e541b16-68bc-405c-a502-124e725f7fcb",
   "metadata": {},
   "outputs": [],
   "source": [
    "#Import Modules\n",
    "from herbie import Herbie\n",
    "import cartopy.feature as cfeature\n",
    "import matplotlib.pyplot as plt\n",
    "import cartopy.crs as ccrs\n",
    "import numpy as np\n",
    "import metpy.calc as mpcalc\n",
    "from metpy.units import units"
   ]
  },
  {
   "cell_type": "markdown",
   "id": "21c29f04-7804-4e90-9b09-7cb98aa82d00",
   "metadata": {},
   "source": [
    "### Downloading the Data\n",
    "Here you can input the date and pressure level and get the full 48-hour HRRR forecast for that day."
   ]
  },
  {
   "cell_type": "code",
   "execution_count": null,
   "id": "466dc9d5-832d-434a-a2c4-05087712b9cb",
   "metadata": {},
   "outputs": [
    {
     "name": "stdin",
     "output_type": "stream",
     "text": [
      "Year (yyyy): 2024\n",
      "Month (mm): 04\n",
      "Day (dd): 25\n",
      "Enter level (surface, 1000 mb, 925 mb, 850 mb, etc.): 1000 mb\n"
     ]
    },
    {
     "name": "stdout",
     "output_type": "stream",
     "text": [
      "✅ Found ┊ model=hrrr ┊ \u001b[3mproduct=prs\u001b[0m ┊ \u001b[38;2;41;130;13m2024-Apr-25 00:00 UTC\u001b[92m F00\u001b[0m ┊ \u001b[38;2;255;153;0m\u001b[3mGRIB2 @ aws\u001b[0m ┊ \u001b[38;2;255;153;0m\u001b[3mIDX @ aws\u001b[0m\n",
      "✅ Found ┊ model=hrrr ┊ \u001b[3mproduct=prs\u001b[0m ┊ \u001b[38;2;41;130;13m2024-Apr-25 00:00 UTC\u001b[92m F01\u001b[0m ┊ \u001b[38;2;255;153;0m\u001b[3mGRIB2 @ aws\u001b[0m ┊ \u001b[38;2;255;153;0m\u001b[3mIDX @ aws\u001b[0m\n",
      "✅ Found ┊ model=hrrr ┊ \u001b[3mproduct=prs\u001b[0m ┊ \u001b[38;2;41;130;13m2024-Apr-25 00:00 UTC\u001b[92m F02\u001b[0m ┊ \u001b[38;2;255;153;0m\u001b[3mGRIB2 @ aws\u001b[0m ┊ \u001b[38;2;255;153;0m\u001b[3mIDX @ aws\u001b[0m\n",
      "✅ Found ┊ model=hrrr ┊ \u001b[3mproduct=prs\u001b[0m ┊ \u001b[38;2;41;130;13m2024-Apr-25 00:00 UTC\u001b[92m F03\u001b[0m ┊ \u001b[38;2;255;153;0m\u001b[3mGRIB2 @ aws\u001b[0m ┊ \u001b[38;2;255;153;0m\u001b[3mIDX @ aws\u001b[0m\n",
      "✅ Found ┊ model=hrrr ┊ \u001b[3mproduct=prs\u001b[0m ┊ \u001b[38;2;41;130;13m2024-Apr-25 00:00 UTC\u001b[92m F04\u001b[0m ┊ \u001b[38;2;255;153;0m\u001b[3mGRIB2 @ aws\u001b[0m ┊ \u001b[38;2;255;153;0m\u001b[3mIDX @ aws\u001b[0m\n",
      "✅ Found ┊ model=hrrr ┊ \u001b[3mproduct=prs\u001b[0m ┊ \u001b[38;2;41;130;13m2024-Apr-25 00:00 UTC\u001b[92m F05\u001b[0m ┊ \u001b[38;2;255;153;0m\u001b[3mGRIB2 @ aws\u001b[0m ┊ \u001b[38;2;255;153;0m\u001b[3mIDX @ aws\u001b[0m\n",
      "✅ Found ┊ model=hrrr ┊ \u001b[3mproduct=prs\u001b[0m ┊ \u001b[38;2;41;130;13m2024-Apr-25 00:00 UTC\u001b[92m F06\u001b[0m ┊ \u001b[38;2;255;153;0m\u001b[3mGRIB2 @ aws\u001b[0m ┊ \u001b[38;2;255;153;0m\u001b[3mIDX @ aws\u001b[0m\n",
      "✅ Found ┊ model=hrrr ┊ \u001b[3mproduct=prs\u001b[0m ┊ \u001b[38;2;41;130;13m2024-Apr-25 00:00 UTC\u001b[92m F07\u001b[0m ┊ \u001b[38;2;255;153;0m\u001b[3mGRIB2 @ aws\u001b[0m ┊ \u001b[38;2;255;153;0m\u001b[3mIDX @ aws\u001b[0m\n",
      "✅ Found ┊ model=hrrr ┊ \u001b[3mproduct=prs\u001b[0m ┊ \u001b[38;2;41;130;13m2024-Apr-25 00:00 UTC\u001b[92m F08\u001b[0m ┊ \u001b[38;2;255;153;0m\u001b[3mGRIB2 @ aws\u001b[0m ┊ \u001b[38;2;255;153;0m\u001b[3mIDX @ aws\u001b[0m\n",
      "✅ Found ┊ model=hrrr ┊ \u001b[3mproduct=prs\u001b[0m ┊ \u001b[38;2;41;130;13m2024-Apr-25 00:00 UTC\u001b[92m F09\u001b[0m ┊ \u001b[38;2;255;153;0m\u001b[3mGRIB2 @ aws\u001b[0m ┊ \u001b[38;2;255;153;0m\u001b[3mIDX @ aws\u001b[0m\n",
      "✅ Found ┊ model=hrrr ┊ \u001b[3mproduct=prs\u001b[0m ┊ \u001b[38;2;41;130;13m2024-Apr-25 00:00 UTC\u001b[92m F10\u001b[0m ┊ \u001b[38;2;255;153;0m\u001b[3mGRIB2 @ aws\u001b[0m ┊ \u001b[38;2;255;153;0m\u001b[3mIDX @ aws\u001b[0m\n",
      "✅ Found ┊ model=hrrr ┊ \u001b[3mproduct=prs\u001b[0m ┊ \u001b[38;2;41;130;13m2024-Apr-25 00:00 UTC\u001b[92m F11\u001b[0m ┊ \u001b[38;2;255;153;0m\u001b[3mGRIB2 @ aws\u001b[0m ┊ \u001b[38;2;255;153;0m\u001b[3mIDX @ aws\u001b[0m\n",
      "✅ Found ┊ model=hrrr ┊ \u001b[3mproduct=prs\u001b[0m ┊ \u001b[38;2;41;130;13m2024-Apr-25 00:00 UTC\u001b[92m F12\u001b[0m ┊ \u001b[38;2;255;153;0m\u001b[3mGRIB2 @ aws\u001b[0m ┊ \u001b[38;2;255;153;0m\u001b[3mIDX @ aws\u001b[0m\n",
      "✅ Found ┊ model=hrrr ┊ \u001b[3mproduct=prs\u001b[0m ┊ \u001b[38;2;41;130;13m2024-Apr-25 00:00 UTC\u001b[92m F13\u001b[0m ┊ \u001b[38;2;255;153;0m\u001b[3mGRIB2 @ aws\u001b[0m ┊ \u001b[38;2;255;153;0m\u001b[3mIDX @ aws\u001b[0m\n",
      "✅ Found ┊ model=hrrr ┊ \u001b[3mproduct=prs\u001b[0m ┊ \u001b[38;2;41;130;13m2024-Apr-25 00:00 UTC\u001b[92m F14\u001b[0m ┊ \u001b[38;2;255;153;0m\u001b[3mGRIB2 @ aws\u001b[0m ┊ \u001b[38;2;255;153;0m\u001b[3mIDX @ aws\u001b[0m\n",
      "✅ Found ┊ model=hrrr ┊ \u001b[3mproduct=prs\u001b[0m ┊ \u001b[38;2;41;130;13m2024-Apr-25 00:00 UTC\u001b[92m F15\u001b[0m ┊ \u001b[38;2;255;153;0m\u001b[3mGRIB2 @ aws\u001b[0m ┊ \u001b[38;2;255;153;0m\u001b[3mIDX @ aws\u001b[0m\n",
      "✅ Found ┊ model=hrrr ┊ \u001b[3mproduct=prs\u001b[0m ┊ \u001b[38;2;41;130;13m2024-Apr-25 00:00 UTC\u001b[92m F16\u001b[0m ┊ \u001b[38;2;255;153;0m\u001b[3mGRIB2 @ aws\u001b[0m ┊ \u001b[38;2;255;153;0m\u001b[3mIDX @ aws\u001b[0m\n",
      "✅ Found ┊ model=hrrr ┊ \u001b[3mproduct=prs\u001b[0m ┊ \u001b[38;2;41;130;13m2024-Apr-25 00:00 UTC\u001b[92m F17\u001b[0m ┊ \u001b[38;2;255;153;0m\u001b[3mGRIB2 @ aws\u001b[0m ┊ \u001b[38;2;255;153;0m\u001b[3mIDX @ aws\u001b[0m\n",
      "✅ Found ┊ model=hrrr ┊ \u001b[3mproduct=prs\u001b[0m ┊ \u001b[38;2;41;130;13m2024-Apr-25 00:00 UTC\u001b[92m F18\u001b[0m ┊ \u001b[38;2;255;153;0m\u001b[3mGRIB2 @ aws\u001b[0m ┊ \u001b[38;2;255;153;0m\u001b[3mIDX @ aws\u001b[0m\n",
      "✅ Found ┊ model=hrrr ┊ \u001b[3mproduct=prs\u001b[0m ┊ \u001b[38;2;41;130;13m2024-Apr-25 00:00 UTC\u001b[92m F19\u001b[0m ┊ \u001b[38;2;255;153;0m\u001b[3mGRIB2 @ aws\u001b[0m ┊ \u001b[38;2;255;153;0m\u001b[3mIDX @ aws\u001b[0m\n",
      "✅ Found ┊ model=hrrr ┊ \u001b[3mproduct=prs\u001b[0m ┊ \u001b[38;2;41;130;13m2024-Apr-25 00:00 UTC\u001b[92m F20\u001b[0m ┊ \u001b[38;2;255;153;0m\u001b[3mGRIB2 @ aws\u001b[0m ┊ \u001b[38;2;255;153;0m\u001b[3mIDX @ aws\u001b[0m\n",
      "✅ Found ┊ model=hrrr ┊ \u001b[3mproduct=prs\u001b[0m ┊ \u001b[38;2;41;130;13m2024-Apr-25 00:00 UTC\u001b[92m F21\u001b[0m ┊ \u001b[38;2;255;153;0m\u001b[3mGRIB2 @ aws\u001b[0m ┊ \u001b[38;2;255;153;0m\u001b[3mIDX @ aws\u001b[0m\n",
      "✅ Found ┊ model=hrrr ┊ \u001b[3mproduct=prs\u001b[0m ┊ \u001b[38;2;41;130;13m2024-Apr-25 00:00 UTC\u001b[92m F22\u001b[0m ┊ \u001b[38;2;255;153;0m\u001b[3mGRIB2 @ aws\u001b[0m ┊ \u001b[38;2;255;153;0m\u001b[3mIDX @ aws\u001b[0m\n",
      "✅ Found ┊ model=hrrr ┊ \u001b[3mproduct=prs\u001b[0m ┊ \u001b[38;2;41;130;13m2024-Apr-25 00:00 UTC\u001b[92m F23\u001b[0m ┊ \u001b[38;2;255;153;0m\u001b[3mGRIB2 @ aws\u001b[0m ┊ \u001b[38;2;255;153;0m\u001b[3mIDX @ aws\u001b[0m\n",
      "✅ Found ┊ model=hrrr ┊ \u001b[3mproduct=prs\u001b[0m ┊ \u001b[38;2;41;130;13m2024-Apr-25 00:00 UTC\u001b[92m F24\u001b[0m ┊ \u001b[38;2;255;153;0m\u001b[3mGRIB2 @ aws\u001b[0m ┊ \u001b[38;2;255;153;0m\u001b[3mIDX @ aws\u001b[0m\n",
      "✅ Found ┊ model=hrrr ┊ \u001b[3mproduct=prs\u001b[0m ┊ \u001b[38;2;41;130;13m2024-Apr-25 00:00 UTC\u001b[92m F25\u001b[0m ┊ \u001b[38;2;255;153;0m\u001b[3mGRIB2 @ aws\u001b[0m ┊ \u001b[38;2;255;153;0m\u001b[3mIDX @ aws\u001b[0m\n",
      "✅ Found ┊ model=hrrr ┊ \u001b[3mproduct=prs\u001b[0m ┊ \u001b[38;2;41;130;13m2024-Apr-25 00:00 UTC\u001b[92m F26\u001b[0m ┊ \u001b[38;2;255;153;0m\u001b[3mGRIB2 @ aws\u001b[0m ┊ \u001b[38;2;255;153;0m\u001b[3mIDX @ aws\u001b[0m\n",
      "✅ Found ┊ model=hrrr ┊ \u001b[3mproduct=prs\u001b[0m ┊ \u001b[38;2;41;130;13m2024-Apr-25 00:00 UTC\u001b[92m F27\u001b[0m ┊ \u001b[38;2;255;153;0m\u001b[3mGRIB2 @ aws\u001b[0m ┊ \u001b[38;2;255;153;0m\u001b[3mIDX @ aws\u001b[0m\n",
      "✅ Found ┊ model=hrrr ┊ \u001b[3mproduct=prs\u001b[0m ┊ \u001b[38;2;41;130;13m2024-Apr-25 00:00 UTC\u001b[92m F28\u001b[0m ┊ \u001b[38;2;255;153;0m\u001b[3mGRIB2 @ aws\u001b[0m ┊ \u001b[38;2;255;153;0m\u001b[3mIDX @ aws\u001b[0m\n",
      "✅ Found ┊ model=hrrr ┊ \u001b[3mproduct=prs\u001b[0m ┊ \u001b[38;2;41;130;13m2024-Apr-25 00:00 UTC\u001b[92m F29\u001b[0m ┊ \u001b[38;2;255;153;0m\u001b[3mGRIB2 @ aws\u001b[0m ┊ \u001b[38;2;255;153;0m\u001b[3mIDX @ aws\u001b[0m\n"
     ]
    }
   ],
   "source": [
    "yr=input('Year (yyyy):')\n",
    "m=input('Month (mm):')\n",
    "d=input('Day (dd):')\n",
    "date=(f'{yr}-{m}-{d}')\n",
    "level = input(f'Enter level (surface, 1000 mb, 925 mb, 850 mb, etc.):')\n",
    "H=[]\n",
    "ds=[]\n",
    "for a in range(0, 49):\n",
    "    H.append(Herbie(f\"{yr}-{m}-{d}\",  # model run date\n",
    "        model=\"hrrr\",  # model name\n",
    "        product=\"prs\", #product\n",
    "        fxx=a,  # forecast lead time\n",
    "              ))\n",
    "    ds.append(H[a].xarray(f\":{level}:\", remove_grib=False))\n",
    "    if level == str('surface'):\n",
    "        ds.append(ds[a][0])"
   ]
  },
  {
   "cell_type": "markdown",
   "id": "b6ca3712-acbe-4f58-b66b-cc42324a98dc",
   "metadata": {},
   "source": [
    "### Plot the Data\n",
    "Here we will plot the data for the area surrounding the three sites, which are denoted by the black stars."
   ]
  },
  {
   "cell_type": "code",
   "execution_count": null,
   "id": "a1c6f293",
   "metadata": {
    "scrolled": true
   },
   "outputs": [],
   "source": [
    "#Coordinates:\n",
    "#RI: 41.4456, -71.4357\n",
    "#CC: 42.03, -70.049\n",
    "#Sodar: 41.2453, -70.105\n",
    "for a in range(0, 49):\n",
    "    plt.figure(1, figsize=(15, 15))\n",
    "    ax = plt.subplot(111, projection=ccrs.PlateCarree())\n",
    "    ax.set_extent([-69.5, -72, 42.5, 41]), ccrs.PlateCarree() \n",
    "    cf = ax.contourf(ds[0].longitude, ds[0].latitude, \n",
    "                     (mpcalc.wind_speed(ds[a].u.values*units.meter/units.second, \n",
    "                                        ds[a].v.values*units.meter/units.second)).m, \n",
    "                     np.arange(-5, 25, 0.5), cmap=plt.cm.BuPu)\n",
    "    plt.colorbar(cf, orientation='horizontal', pad=0, aspect=50)\n",
    "    ax.add_feature(cfeature.COASTLINE.with_scale('50m'))\n",
    "    ax.add_feature(cfeature.STATES.with_scale('50m'))\n",
    "    ax.scatter(-71.4357, 41.4456, 400, marker='*', color='black', transform=ccrs.PlateCarree())\n",
    "    ax.scatter(-70.049, 42.03, 400, marker='*', color='black', transform=ccrs.PlateCarree())\n",
    "    ax.scatter(-70.105, 41.2453, 400, marker='*', color='black', transform=ccrs.PlateCarree())\n",
    "    plt.title(f'Time: {date} FH {a}   HRRR Wind Speed at {level}')\n",
    "    plt.show()"
   ]
  },
  {
   "cell_type": "code",
   "execution_count": null,
   "id": "0ac9023b-345b-4d24-a7dd-1ab645289a63",
   "metadata": {},
   "outputs": [],
   "source": []
  }
 ],
 "metadata": {
  "kernelspec": {
   "display_name": "Python 3 (ipykernel)",
   "language": "python",
   "name": "python3"
  },
  "language_info": {
   "codemirror_mode": {
    "name": "ipython",
    "version": 3
   },
   "file_extension": ".py",
   "mimetype": "text/x-python",
   "name": "python",
   "nbconvert_exporter": "python",
   "pygments_lexer": "ipython3",
   "version": "3.12.3"
  }
 },
 "nbformat": 4,
 "nbformat_minor": 5
}
