{
 "cells": [
  {
   "cell_type": "markdown",
   "id": "25410b9f-3bc8-4002-b5fd-a50cfd406475",
   "metadata": {},
   "source": [
    "# Visualizing HRRR Model Data Over a General Area Using Herbie\n",
    "In this notebook we will download and plot HRRR data."
   ]
  },
  {
   "cell_type": "code",
   "execution_count": 1,
   "id": "5e541b16-68bc-405c-a502-124e725f7fcb",
   "metadata": {},
   "outputs": [],
   "source": [
    "#Import Modules\n",
    "from herbie import Herbie\n",
    "import cartopy.feature as cfeature\n",
    "import matplotlib.pyplot as plt\n",
    "import cartopy.crs as ccrs\n",
    "import numpy as np\n",
    "import metpy.calc as mpcalc\n",
    "from metpy.units import units\n",
    "import imageio\n",
    "import glob"
   ]
  },
  {
   "cell_type": "markdown",
   "id": "21c29f04-7804-4e90-9b09-7cb98aa82d00",
   "metadata": {},
   "source": [
    "### Downloading the Data\n",
    "Here you can input the date and pressure level, and then choose the number of forecast hours."
   ]
  },
  {
   "cell_type": "code",
   "execution_count": 2,
   "id": "466dc9d5-832d-434a-a2c4-05087712b9cb",
   "metadata": {},
   "outputs": [
    {
     "name": "stdin",
     "output_type": "stream",
     "text": [
      "Year (yyyy): 2024\n",
      "Month (mm): 04\n",
      "Day (dd): 25\n",
      "Enter pressure level (surface, 1000 mb, 925 mb, 850 mb, etc.): 850 mb\n",
      "Choose the number of forecast hours (up to 48): 48\n"
     ]
    },
    {
     "name": "stdout",
     "output_type": "stream",
     "text": [
      "✅ Found ┊ model=hrrr ┊ \u001b[3mproduct=prs\u001b[0m ┊ \u001b[38;2;41;130;13m2024-Apr-25 00:00 UTC\u001b[92m F00\u001b[0m ┊ \u001b[38;2;255;153;0m\u001b[3mGRIB2 @ local\u001b[0m ┊ \u001b[38;2;255;153;0m\u001b[3mIDX @ aws\u001b[0m\n",
      "✅ Found ┊ model=hrrr ┊ \u001b[3mproduct=prs\u001b[0m ┊ \u001b[38;2;41;130;13m2024-Apr-25 00:00 UTC\u001b[92m F01\u001b[0m ┊ \u001b[38;2;255;153;0m\u001b[3mGRIB2 @ aws\u001b[0m ┊ \u001b[38;2;255;153;0m\u001b[3mIDX @ aws\u001b[0m\n",
      "✅ Found ┊ model=hrrr ┊ \u001b[3mproduct=prs\u001b[0m ┊ \u001b[38;2;41;130;13m2024-Apr-25 00:00 UTC\u001b[92m F02\u001b[0m ┊ \u001b[38;2;255;153;0m\u001b[3mGRIB2 @ aws\u001b[0m ┊ \u001b[38;2;255;153;0m\u001b[3mIDX @ aws\u001b[0m\n",
      "✅ Found ┊ model=hrrr ┊ \u001b[3mproduct=prs\u001b[0m ┊ \u001b[38;2;41;130;13m2024-Apr-25 00:00 UTC\u001b[92m F03\u001b[0m ┊ \u001b[38;2;255;153;0m\u001b[3mGRIB2 @ aws\u001b[0m ┊ \u001b[38;2;255;153;0m\u001b[3mIDX @ aws\u001b[0m\n",
      "✅ Found ┊ model=hrrr ┊ \u001b[3mproduct=prs\u001b[0m ┊ \u001b[38;2;41;130;13m2024-Apr-25 00:00 UTC\u001b[92m F04\u001b[0m ┊ \u001b[38;2;255;153;0m\u001b[3mGRIB2 @ aws\u001b[0m ┊ \u001b[38;2;255;153;0m\u001b[3mIDX @ aws\u001b[0m\n",
      "✅ Found ┊ model=hrrr ┊ \u001b[3mproduct=prs\u001b[0m ┊ \u001b[38;2;41;130;13m2024-Apr-25 00:00 UTC\u001b[92m F05\u001b[0m ┊ \u001b[38;2;255;153;0m\u001b[3mGRIB2 @ aws\u001b[0m ┊ \u001b[38;2;255;153;0m\u001b[3mIDX @ aws\u001b[0m\n",
      "✅ Found ┊ model=hrrr ┊ \u001b[3mproduct=prs\u001b[0m ┊ \u001b[38;2;41;130;13m2024-Apr-25 00:00 UTC\u001b[92m F06\u001b[0m ┊ \u001b[38;2;255;153;0m\u001b[3mGRIB2 @ aws\u001b[0m ┊ \u001b[38;2;255;153;0m\u001b[3mIDX @ aws\u001b[0m\n",
      "✅ Found ┊ model=hrrr ┊ \u001b[3mproduct=prs\u001b[0m ┊ \u001b[38;2;41;130;13m2024-Apr-25 00:00 UTC\u001b[92m F07\u001b[0m ┊ \u001b[38;2;255;153;0m\u001b[3mGRIB2 @ aws\u001b[0m ┊ \u001b[38;2;255;153;0m\u001b[3mIDX @ aws\u001b[0m\n",
      "✅ Found ┊ model=hrrr ┊ \u001b[3mproduct=prs\u001b[0m ┊ \u001b[38;2;41;130;13m2024-Apr-25 00:00 UTC\u001b[92m F08\u001b[0m ┊ \u001b[38;2;255;153;0m\u001b[3mGRIB2 @ aws\u001b[0m ┊ \u001b[38;2;255;153;0m\u001b[3mIDX @ aws\u001b[0m\n",
      "✅ Found ┊ model=hrrr ┊ \u001b[3mproduct=prs\u001b[0m ┊ \u001b[38;2;41;130;13m2024-Apr-25 00:00 UTC\u001b[92m F09\u001b[0m ┊ \u001b[38;2;255;153;0m\u001b[3mGRIB2 @ aws\u001b[0m ┊ \u001b[38;2;255;153;0m\u001b[3mIDX @ aws\u001b[0m\n",
      "✅ Found ┊ model=hrrr ┊ \u001b[3mproduct=prs\u001b[0m ┊ \u001b[38;2;41;130;13m2024-Apr-25 00:00 UTC\u001b[92m F10\u001b[0m ┊ \u001b[38;2;255;153;0m\u001b[3mGRIB2 @ aws\u001b[0m ┊ \u001b[38;2;255;153;0m\u001b[3mIDX @ aws\u001b[0m\n",
      "✅ Found ┊ model=hrrr ┊ \u001b[3mproduct=prs\u001b[0m ┊ \u001b[38;2;41;130;13m2024-Apr-25 00:00 UTC\u001b[92m F11\u001b[0m ┊ \u001b[38;2;255;153;0m\u001b[3mGRIB2 @ aws\u001b[0m ┊ \u001b[38;2;255;153;0m\u001b[3mIDX @ aws\u001b[0m\n",
      "✅ Found ┊ model=hrrr ┊ \u001b[3mproduct=prs\u001b[0m ┊ \u001b[38;2;41;130;13m2024-Apr-25 00:00 UTC\u001b[92m F12\u001b[0m ┊ \u001b[38;2;255;153;0m\u001b[3mGRIB2 @ aws\u001b[0m ┊ \u001b[38;2;255;153;0m\u001b[3mIDX @ aws\u001b[0m\n",
      "✅ Found ┊ model=hrrr ┊ \u001b[3mproduct=prs\u001b[0m ┊ \u001b[38;2;41;130;13m2024-Apr-25 00:00 UTC\u001b[92m F13\u001b[0m ┊ \u001b[38;2;255;153;0m\u001b[3mGRIB2 @ aws\u001b[0m ┊ \u001b[38;2;255;153;0m\u001b[3mIDX @ aws\u001b[0m\n",
      "✅ Found ┊ model=hrrr ┊ \u001b[3mproduct=prs\u001b[0m ┊ \u001b[38;2;41;130;13m2024-Apr-25 00:00 UTC\u001b[92m F14\u001b[0m ┊ \u001b[38;2;255;153;0m\u001b[3mGRIB2 @ aws\u001b[0m ┊ \u001b[38;2;255;153;0m\u001b[3mIDX @ aws\u001b[0m\n",
      "✅ Found ┊ model=hrrr ┊ \u001b[3mproduct=prs\u001b[0m ┊ \u001b[38;2;41;130;13m2024-Apr-25 00:00 UTC\u001b[92m F15\u001b[0m ┊ \u001b[38;2;255;153;0m\u001b[3mGRIB2 @ aws\u001b[0m ┊ \u001b[38;2;255;153;0m\u001b[3mIDX @ aws\u001b[0m\n",
      "✅ Found ┊ model=hrrr ┊ \u001b[3mproduct=prs\u001b[0m ┊ \u001b[38;2;41;130;13m2024-Apr-25 00:00 UTC\u001b[92m F16\u001b[0m ┊ \u001b[38;2;255;153;0m\u001b[3mGRIB2 @ aws\u001b[0m ┊ \u001b[38;2;255;153;0m\u001b[3mIDX @ aws\u001b[0m\n",
      "✅ Found ┊ model=hrrr ┊ \u001b[3mproduct=prs\u001b[0m ┊ \u001b[38;2;41;130;13m2024-Apr-25 00:00 UTC\u001b[92m F17\u001b[0m ┊ \u001b[38;2;255;153;0m\u001b[3mGRIB2 @ aws\u001b[0m ┊ \u001b[38;2;255;153;0m\u001b[3mIDX @ aws\u001b[0m\n",
      "✅ Found ┊ model=hrrr ┊ \u001b[3mproduct=prs\u001b[0m ┊ \u001b[38;2;41;130;13m2024-Apr-25 00:00 UTC\u001b[92m F18\u001b[0m ┊ \u001b[38;2;255;153;0m\u001b[3mGRIB2 @ aws\u001b[0m ┊ \u001b[38;2;255;153;0m\u001b[3mIDX @ aws\u001b[0m\n",
      "✅ Found ┊ model=hrrr ┊ \u001b[3mproduct=prs\u001b[0m ┊ \u001b[38;2;41;130;13m2024-Apr-25 00:00 UTC\u001b[92m F19\u001b[0m ┊ \u001b[38;2;255;153;0m\u001b[3mGRIB2 @ aws\u001b[0m ┊ \u001b[38;2;255;153;0m\u001b[3mIDX @ aws\u001b[0m\n",
      "✅ Found ┊ model=hrrr ┊ \u001b[3mproduct=prs\u001b[0m ┊ \u001b[38;2;41;130;13m2024-Apr-25 00:00 UTC\u001b[92m F20\u001b[0m ┊ \u001b[38;2;255;153;0m\u001b[3mGRIB2 @ aws\u001b[0m ┊ \u001b[38;2;255;153;0m\u001b[3mIDX @ aws\u001b[0m\n",
      "✅ Found ┊ model=hrrr ┊ \u001b[3mproduct=prs\u001b[0m ┊ \u001b[38;2;41;130;13m2024-Apr-25 00:00 UTC\u001b[92m F21\u001b[0m ┊ \u001b[38;2;255;153;0m\u001b[3mGRIB2 @ aws\u001b[0m ┊ \u001b[38;2;255;153;0m\u001b[3mIDX @ aws\u001b[0m\n",
      "✅ Found ┊ model=hrrr ┊ \u001b[3mproduct=prs\u001b[0m ┊ \u001b[38;2;41;130;13m2024-Apr-25 00:00 UTC\u001b[92m F22\u001b[0m ┊ \u001b[38;2;255;153;0m\u001b[3mGRIB2 @ aws\u001b[0m ┊ \u001b[38;2;255;153;0m\u001b[3mIDX @ aws\u001b[0m\n",
      "✅ Found ┊ model=hrrr ┊ \u001b[3mproduct=prs\u001b[0m ┊ \u001b[38;2;41;130;13m2024-Apr-25 00:00 UTC\u001b[92m F23\u001b[0m ┊ \u001b[38;2;255;153;0m\u001b[3mGRIB2 @ aws\u001b[0m ┊ \u001b[38;2;255;153;0m\u001b[3mIDX @ aws\u001b[0m\n",
      "✅ Found ┊ model=hrrr ┊ \u001b[3mproduct=prs\u001b[0m ┊ \u001b[38;2;41;130;13m2024-Apr-25 00:00 UTC\u001b[92m F24\u001b[0m ┊ \u001b[38;2;255;153;0m\u001b[3mGRIB2 @ aws\u001b[0m ┊ \u001b[38;2;255;153;0m\u001b[3mIDX @ aws\u001b[0m\n",
      "✅ Found ┊ model=hrrr ┊ \u001b[3mproduct=prs\u001b[0m ┊ \u001b[38;2;41;130;13m2024-Apr-25 00:00 UTC\u001b[92m F25\u001b[0m ┊ \u001b[38;2;255;153;0m\u001b[3mGRIB2 @ aws\u001b[0m ┊ \u001b[38;2;255;153;0m\u001b[3mIDX @ aws\u001b[0m\n",
      "✅ Found ┊ model=hrrr ┊ \u001b[3mproduct=prs\u001b[0m ┊ \u001b[38;2;41;130;13m2024-Apr-25 00:00 UTC\u001b[92m F26\u001b[0m ┊ \u001b[38;2;255;153;0m\u001b[3mGRIB2 @ aws\u001b[0m ┊ \u001b[38;2;255;153;0m\u001b[3mIDX @ aws\u001b[0m\n",
      "✅ Found ┊ model=hrrr ┊ \u001b[3mproduct=prs\u001b[0m ┊ \u001b[38;2;41;130;13m2024-Apr-25 00:00 UTC\u001b[92m F27\u001b[0m ┊ \u001b[38;2;255;153;0m\u001b[3mGRIB2 @ aws\u001b[0m ┊ \u001b[38;2;255;153;0m\u001b[3mIDX @ aws\u001b[0m\n",
      "✅ Found ┊ model=hrrr ┊ \u001b[3mproduct=prs\u001b[0m ┊ \u001b[38;2;41;130;13m2024-Apr-25 00:00 UTC\u001b[92m F28\u001b[0m ┊ \u001b[38;2;255;153;0m\u001b[3mGRIB2 @ aws\u001b[0m ┊ \u001b[38;2;255;153;0m\u001b[3mIDX @ aws\u001b[0m\n",
      "✅ Found ┊ model=hrrr ┊ \u001b[3mproduct=prs\u001b[0m ┊ \u001b[38;2;41;130;13m2024-Apr-25 00:00 UTC\u001b[92m F29\u001b[0m ┊ \u001b[38;2;255;153;0m\u001b[3mGRIB2 @ aws\u001b[0m ┊ \u001b[38;2;255;153;0m\u001b[3mIDX @ aws\u001b[0m\n",
      "✅ Found ┊ model=hrrr ┊ \u001b[3mproduct=prs\u001b[0m ┊ \u001b[38;2;41;130;13m2024-Apr-25 00:00 UTC\u001b[92m F30\u001b[0m ┊ \u001b[38;2;255;153;0m\u001b[3mGRIB2 @ aws\u001b[0m ┊ \u001b[38;2;255;153;0m\u001b[3mIDX @ aws\u001b[0m\n",
      "✅ Found ┊ model=hrrr ┊ \u001b[3mproduct=prs\u001b[0m ┊ \u001b[38;2;41;130;13m2024-Apr-25 00:00 UTC\u001b[92m F31\u001b[0m ┊ \u001b[38;2;255;153;0m\u001b[3mGRIB2 @ aws\u001b[0m ┊ \u001b[38;2;255;153;0m\u001b[3mIDX @ aws\u001b[0m\n",
      "✅ Found ┊ model=hrrr ┊ \u001b[3mproduct=prs\u001b[0m ┊ \u001b[38;2;41;130;13m2024-Apr-25 00:00 UTC\u001b[92m F32\u001b[0m ┊ \u001b[38;2;255;153;0m\u001b[3mGRIB2 @ aws\u001b[0m ┊ \u001b[38;2;255;153;0m\u001b[3mIDX @ aws\u001b[0m\n",
      "✅ Found ┊ model=hrrr ┊ \u001b[3mproduct=prs\u001b[0m ┊ \u001b[38;2;41;130;13m2024-Apr-25 00:00 UTC\u001b[92m F33\u001b[0m ┊ \u001b[38;2;255;153;0m\u001b[3mGRIB2 @ aws\u001b[0m ┊ \u001b[38;2;255;153;0m\u001b[3mIDX @ aws\u001b[0m\n",
      "✅ Found ┊ model=hrrr ┊ \u001b[3mproduct=prs\u001b[0m ┊ \u001b[38;2;41;130;13m2024-Apr-25 00:00 UTC\u001b[92m F34\u001b[0m ┊ \u001b[38;2;255;153;0m\u001b[3mGRIB2 @ aws\u001b[0m ┊ \u001b[38;2;255;153;0m\u001b[3mIDX @ aws\u001b[0m\n",
      "✅ Found ┊ model=hrrr ┊ \u001b[3mproduct=prs\u001b[0m ┊ \u001b[38;2;41;130;13m2024-Apr-25 00:00 UTC\u001b[92m F35\u001b[0m ┊ \u001b[38;2;255;153;0m\u001b[3mGRIB2 @ aws\u001b[0m ┊ \u001b[38;2;255;153;0m\u001b[3mIDX @ aws\u001b[0m\n",
      "✅ Found ┊ model=hrrr ┊ \u001b[3mproduct=prs\u001b[0m ┊ \u001b[38;2;41;130;13m2024-Apr-25 00:00 UTC\u001b[92m F36\u001b[0m ┊ \u001b[38;2;255;153;0m\u001b[3mGRIB2 @ aws\u001b[0m ┊ \u001b[38;2;255;153;0m\u001b[3mIDX @ aws\u001b[0m\n",
      "✅ Found ┊ model=hrrr ┊ \u001b[3mproduct=prs\u001b[0m ┊ \u001b[38;2;41;130;13m2024-Apr-25 00:00 UTC\u001b[92m F37\u001b[0m ┊ \u001b[38;2;255;153;0m\u001b[3mGRIB2 @ aws\u001b[0m ┊ \u001b[38;2;255;153;0m\u001b[3mIDX @ aws\u001b[0m\n",
      "✅ Found ┊ model=hrrr ┊ \u001b[3mproduct=prs\u001b[0m ┊ \u001b[38;2;41;130;13m2024-Apr-25 00:00 UTC\u001b[92m F38\u001b[0m ┊ \u001b[38;2;255;153;0m\u001b[3mGRIB2 @ aws\u001b[0m ┊ \u001b[38;2;255;153;0m\u001b[3mIDX @ aws\u001b[0m\n",
      "✅ Found ┊ model=hrrr ┊ \u001b[3mproduct=prs\u001b[0m ┊ \u001b[38;2;41;130;13m2024-Apr-25 00:00 UTC\u001b[92m F39\u001b[0m ┊ \u001b[38;2;255;153;0m\u001b[3mGRIB2 @ aws\u001b[0m ┊ \u001b[38;2;255;153;0m\u001b[3mIDX @ aws\u001b[0m\n",
      "✅ Found ┊ model=hrrr ┊ \u001b[3mproduct=prs\u001b[0m ┊ \u001b[38;2;41;130;13m2024-Apr-25 00:00 UTC\u001b[92m F40\u001b[0m ┊ \u001b[38;2;255;153;0m\u001b[3mGRIB2 @ aws\u001b[0m ┊ \u001b[38;2;255;153;0m\u001b[3mIDX @ aws\u001b[0m\n",
      "✅ Found ┊ model=hrrr ┊ \u001b[3mproduct=prs\u001b[0m ┊ \u001b[38;2;41;130;13m2024-Apr-25 00:00 UTC\u001b[92m F41\u001b[0m ┊ \u001b[38;2;255;153;0m\u001b[3mGRIB2 @ aws\u001b[0m ┊ \u001b[38;2;255;153;0m\u001b[3mIDX @ aws\u001b[0m\n",
      "✅ Found ┊ model=hrrr ┊ \u001b[3mproduct=prs\u001b[0m ┊ \u001b[38;2;41;130;13m2024-Apr-25 00:00 UTC\u001b[92m F42\u001b[0m ┊ \u001b[38;2;255;153;0m\u001b[3mGRIB2 @ aws\u001b[0m ┊ \u001b[38;2;255;153;0m\u001b[3mIDX @ aws\u001b[0m\n",
      "✅ Found ┊ model=hrrr ┊ \u001b[3mproduct=prs\u001b[0m ┊ \u001b[38;2;41;130;13m2024-Apr-25 00:00 UTC\u001b[92m F43\u001b[0m ┊ \u001b[38;2;255;153;0m\u001b[3mGRIB2 @ aws\u001b[0m ┊ \u001b[38;2;255;153;0m\u001b[3mIDX @ aws\u001b[0m\n",
      "✅ Found ┊ model=hrrr ┊ \u001b[3mproduct=prs\u001b[0m ┊ \u001b[38;2;41;130;13m2024-Apr-25 00:00 UTC\u001b[92m F44\u001b[0m ┊ \u001b[38;2;255;153;0m\u001b[3mGRIB2 @ aws\u001b[0m ┊ \u001b[38;2;255;153;0m\u001b[3mIDX @ aws\u001b[0m\n",
      "✅ Found ┊ model=hrrr ┊ \u001b[3mproduct=prs\u001b[0m ┊ \u001b[38;2;41;130;13m2024-Apr-25 00:00 UTC\u001b[92m F45\u001b[0m ┊ \u001b[38;2;255;153;0m\u001b[3mGRIB2 @ aws\u001b[0m ┊ \u001b[38;2;255;153;0m\u001b[3mIDX @ aws\u001b[0m\n",
      "✅ Found ┊ model=hrrr ┊ \u001b[3mproduct=prs\u001b[0m ┊ \u001b[38;2;41;130;13m2024-Apr-25 00:00 UTC\u001b[92m F46\u001b[0m ┊ \u001b[38;2;255;153;0m\u001b[3mGRIB2 @ aws\u001b[0m ┊ \u001b[38;2;255;153;0m\u001b[3mIDX @ aws\u001b[0m\n",
      "✅ Found ┊ model=hrrr ┊ \u001b[3mproduct=prs\u001b[0m ┊ \u001b[38;2;41;130;13m2024-Apr-25 00:00 UTC\u001b[92m F47\u001b[0m ┊ \u001b[38;2;255;153;0m\u001b[3mGRIB2 @ aws\u001b[0m ┊ \u001b[38;2;255;153;0m\u001b[3mIDX @ aws\u001b[0m\n",
      "✅ Found ┊ model=hrrr ┊ \u001b[3mproduct=prs\u001b[0m ┊ \u001b[38;2;41;130;13m2024-Apr-25 00:00 UTC\u001b[92m F48\u001b[0m ┊ \u001b[38;2;255;153;0m\u001b[3mGRIB2 @ aws\u001b[0m ┊ \u001b[38;2;255;153;0m\u001b[3mIDX @ aws\u001b[0m\n"
     ]
    },
    {
     "data": {
      "text/plain": [
       "Data variables:\n",
       "    unknown  (y, x) float32 8MB ...\n",
       "    t        (y, x) float32 8MB ...\n",
       "    u        (y, x) float32 8MB -1.034 -0.9717 -0.9717 ... 4.278 4.278 4.278\n",
       "    v        (y, x) float32 8MB -2.627 -2.564 -2.502 ... 0.8732 0.9357 0.9982\n",
       "    q        (y, x) float32 8MB ...\n",
       "    w        (y, x) float32 8MB ...\n",
       "    gh       (y, x) float32 8MB ...\n",
       "    r        (y, x) float32 8MB ...\n",
       "    dpt      (y, x) float32 8MB ...\n",
       "    absv     (y, x) float32 8MB ...\n",
       "    clwmr    (y, x) float32 8MB ...\n",
       "    rwmr     (y, x) float32 8MB ...\n",
       "    snmr     (y, x) float32 8MB ...\n",
       "    grle     (y, x) float32 8MB ...\n",
       "    wspd     (y, x) float32 8MB 2.823 2.742 2.684 2.603 ... 4.366 4.379 4.393"
      ]
     },
     "execution_count": 2,
     "metadata": {},
     "output_type": "execute_result"
    }
   ],
   "source": [
    "yr = input('Year (yyyy):')\n",
    "m = input('Month (mm):')\n",
    "d = input('Day (dd):')\n",
    "level = input('Enter pressure level (surface, 1000 mb, 925 mb, 850 mb, etc.):')\n",
    "fxx = input('Choose the number of forecast hours (up to 48):')\n",
    "date = (f'{yr}-{m}-{d}')\n",
    "fh = []\n",
    "H = []\n",
    "ds = []\n",
    "for a in range(0, int(fxx) + 1):\n",
    "    #Create a list of the forecast hours in \"HH\" format, this allows\n",
    "    #for saving all images in order later for creating the gif\n",
    "    if a <10:\n",
    "        fh.append(f'0{a}')\n",
    "    else:\n",
    "        fh.append(f'{a}')\n",
    "    if level == str('surface'):\n",
    "        product = \"sfc\"\n",
    "    else:\n",
    "        product = \"prs\"\n",
    "    #Read in the data\n",
    "    H.append(Herbie(f\"{yr}-{m}-{d}\",  # model run date\n",
    "        model=\"hrrr\",  # model name\n",
    "        product=product, #product\n",
    "        fxx=a,  # forecast lead time\n",
    "              ))\n",
    "    if level == str('surface'):\n",
    "        ds.append(H[a].xarray(f\":{level}:\", remove_grib=False)[0])\n",
    "    else:\n",
    "        ds.append(H[a].xarray(f\":{level}:\", remove_grib=False))\n",
    "        #Calculate wind speed and add it to the dataset\n",
    "        ds[a]['wspd'] = (('y', 'x'), (mpcalc.wind_speed(ds[a].u.values*units.meter/units.second, \n",
    "                                                        ds[a].v.values*units.meter/units.second)).m)\n",
    "        ds[a].wspd.attrs['long_name'] = 'Wind Speed'\n",
    "ds[0].data_vars"
   ]
  },
  {
   "cell_type": "markdown",
   "id": "3f2eb5b9-5a83-407f-9f37-9464c6bffd4a",
   "metadata": {},
   "source": [
    "### Choose Variable\n",
    "Choose a variable from the list above.  Once you enter it, you will get the full name of the variable.  Geopotential heights (gh) should not be chosen here, as they will already be plotted as contours for upper air maps."
   ]
  },
  {
   "cell_type": "code",
   "execution_count": 3,
   "id": "87e73a78-e97a-435c-8e5d-7b1fefa3f767",
   "metadata": {},
   "outputs": [
    {
     "name": "stdin",
     "output_type": "stream",
     "text": [
      "Choose your variable (for cfill): dpt\n"
     ]
    },
    {
     "data": {
      "text/plain": [
       "'Dew point temperature'"
      ]
     },
     "execution_count": 3,
     "metadata": {},
     "output_type": "execute_result"
    }
   ],
   "source": [
    "var = input('Choose your variable (for cfill):')   \n",
    "ds[0][f'{var}'].long_name"
   ]
  },
  {
   "cell_type": "markdown",
   "id": "b0e52c1e-fd5c-4464-95dc-ae589fa41275",
   "metadata": {},
   "source": [
    "### Plot the Data\n",
    "Here we will plot the data, with the three sites denoted by the black stars."
   ]
  },
  {
   "cell_type": "code",
   "execution_count": 4,
   "id": "9f954446-9b43-4a07-b393-5d67938f405d",
   "metadata": {},
   "outputs": [],
   "source": [
    "#These if statements determine the colormap, colormap scale, and contour interval\n",
    "#that will be used depending on what variable and at which level is being plotted.\n",
    "if level == str('200 mb') or level == str('250 mb') or level == str('300 mb'):\n",
    "    comp_scale = np.arange(-70, 71, 10)\n",
    "    wind_scale = np.arange(30, 81, 10)\n",
    "    i = 120\n",
    "elif level == str('500 mb'):\n",
    "    comp_scale = np.arange(-40, 41, 5)\n",
    "    wind_scale = np.arange(0, 51, 10)\n",
    "    i = 60\n",
    "elif level == str('700 mb') or level == str('850 mb'):\n",
    "    comp_scale = np.arange(-25, 26, 5)\n",
    "    wind_scale = np.arange(0, 31, 5)\n",
    "    i = 30\n",
    "elif level == str('925 mb') or level == str('1000 mb'):\n",
    "    comp_scale = np.arange(-20, 20.1, 2)\n",
    "    wind_scale = np.arange(0, 21, 2)\n",
    "    i = 20\n",
    "if var == str('t'):\n",
    "    cmap = plt.cm.coolwarm\n",
    "    scale = np.arange(210, 321, 5)\n",
    "elif var == str('q'):\n",
    "    cmap = plt.cm.Greens\n",
    "    scale = np.arange(0.0001, 0.0005, 0.000001)\n",
    "elif var == str('dpt'):\n",
    "    cmap = plt.cm.Greens\n",
    "    scale = np.arange(235, 311, 5)\n",
    "elif var == str('r'):\n",
    "    cmap = plt.cm.Greens\n",
    "    scale = np.arange(0, 101, 5)\n",
    "elif var == str('clwmr') or var == str('snmr') or var == str('rwmr'):\n",
    "    cmap = plt.cm.BuGn\n",
    "    scale = np.arange(0, 5e-3, 1e-6)\n",
    "elif var == str('absv'):\n",
    "    cmap = plt.cm.PuOr_r\n",
    "    scale = np.arange(-0.001, 0.00101, 0.0001)\n",
    "elif var == str('u') or var == str('v'):\n",
    "    cmap = plt.cm.BuPu\n",
    "    scale = comp_scale\n",
    "elif var == str('wspd'):\n",
    "    cmap = plt.cm.BuPu\n",
    "    scale = wind_scale\n",
    "elif var == str('w'):\n",
    "    cmap = plt.cm.BrBG\n",
    "    scale = np.arange(-4.5, 4.51, 0.05)\n",
    "elif var == str('grle'):\n",
    "    cmap = plt.cm.Blues\n",
    "    scale = np.arange(0, 5e-3, 1e-6)\n",
    "elif var == str('cape'):\n",
    "    scale = np.arange(0, 7001, 500)\n",
    "    cmap = plt.cm.Reds\n",
    "elif var == str('cin'):\n",
    "    scale = np.arange(-300, 301, 25)\n",
    "    cmap = plt.cmap.gist_heat_r\n",
    "elif var == str('vis'):\n",
    "    scale = np.arange(0, 100001, 5000)\n",
    "    cmap = plt.cm.Greys_r\n",
    "elif var == str('frzr'):\n",
    "    scale = np.arange(0, 0.51, 0.01)\n",
    "    cmap = plt.cm.RdPu\n",
    "elif var == str('sde'):\n",
    "    scale = np.arange(0, 1.01, 0.01)\n",
    "    cmap = plt.cm.Blues\n",
    "elif var == str('blh'):\n",
    "    scale = np.arange(0, 5001, 100)\n",
    "    cmap = plt.cm.Oranges_r\n",
    "elif var == str('hail'):\n",
    "    scale = np.arange(0, 0.251, 0.01)\n",
    "    cmap = plt.cm.Greys\n",
    "elif var_sfc == str('gust'):\n",
    "    scale = np.arange(0, 36, 5)\n",
    "    cmap = plt.cm.BuPu\n",
    "elif var_sfc == str('dswrf') or var_sfc == str('uswrf') or var_sfc == str('dlwrf') or var_sfc == str('ulwrf'):\n",
    "    scale = np.arange(0, 601, 25)\n",
    "    cmap = plt.cm.viridis\n",
    "elif var_sfc == str('gflux'):\n",
    "    scale = np.arange(-750, 751, 50)\n",
    "    cmap = plt.cm.viridis"
   ]
  },
  {
   "cell_type": "code",
   "execution_count": 5,
   "id": "a1c6f293",
   "metadata": {
    "scrolled": true
   },
   "outputs": [],
   "source": [
    "#Coordinates:\n",
    "#RI: 41.4456, -71.4357\n",
    "#CC: 42.03, -70.049\n",
    "#Sodar: 41.2453, -70.105\n",
    "\n",
    "#Plot the figures\n",
    "for a in range(0, int(fxx) + 1):\n",
    "    fig = plt.figure(1, figsize=(15, 15))\n",
    "    ax = plt.subplot(111, projection=ccrs.PlateCarree())\n",
    "    #ax.set_extent([-69.5, -72, 42.5, 41]), ccrs.PlateCarree() \n",
    "    ax.set_extent([-125, -65, 25, 47]), ccrs.PlateCarree()\n",
    "    cf = ax.contourf(ds[0].longitude, ds[0].latitude, ds[a][f'{var}'], scale, cmap=cmap)\n",
    "    if product == str('prs'):\n",
    "        cs = ax.contour(ds[0].longitude, ds[0].latitude, ds[a].gh, np.arange(0, 15000, i), \n",
    "                        colors='black', transform=ccrs.PlateCarree())\n",
    "        plt.clabel(cs)\n",
    "    plt.colorbar(cf, orientation='horizontal', pad=0, aspect=50)\n",
    "    ax.add_feature(cfeature.COASTLINE.with_scale('50m'))\n",
    "    ax.add_feature(cfeature.STATES.with_scale('50m'))\n",
    "    ax.scatter(-71.4357, 41.4456, 400, marker='*', color='black', transform=ccrs.PlateCarree())\n",
    "    ax.scatter(-70.049, 42.03, 400, marker='*', color='black', transform=ccrs.PlateCarree())\n",
    "    ax.scatter(-70.105, 41.2453, 400, marker='*', color='black', transform=ccrs.PlateCarree())\n",
    "    plt.title(f'Time: {date} FH {a}   HRRR {ds[0][f'{var}'].long_name} at {level}')\n",
    "    #plt.show()\n",
    "    plt.savefig(f'../../../Downloads/{yr}{m}{d}_{var}_{level}_FH_{fh[a]}_HRRR.png', bbox_inches='tight', dpi=150)\n",
    "    plt.close()"
   ]
  },
  {
   "cell_type": "markdown",
   "id": "8de66db4-56a6-4ed6-a919-bc41729c3534",
   "metadata": {},
   "source": [
    "### Making a Gif\n",
    "We will use the saved images to create a looping gif for the forecast period."
   ]
  },
  {
   "cell_type": "code",
   "execution_count": 6,
   "id": "eb2f0d4c-58af-49d9-818c-d059ebc732e8",
   "metadata": {},
   "outputs": [
    {
     "name": "stderr",
     "output_type": "stream",
     "text": [
      "C:\\Users\\nickm\\AppData\\Local\\Temp\\ipykernel_22376\\3247646894.py:4: DeprecationWarning: Starting with ImageIO v3 the behavior of this function will switch to that of iio.v3.imread. To keep the current behavior (and make this warning disappear) use `import imageio.v2 as imageio` or call `imageio.v2.imread` directly.\n",
      "  images = [imageio.imread(filename) for filename in filenames]\n"
     ]
    }
   ],
   "source": [
    "# List of image filenames\n",
    "filenames = sorted(glob.glob(f\"../../../Downloads/{yr}{m}{d}_{var}_{level}*.png\"))\n",
    "# Create GIF\n",
    "images = [imageio.imread(filename) for filename in filenames]\n",
    "imageio.mimsave(f\"../../../Downloads/{yr}{m}{d}_loop_HRRR_{var}_{level}.gif\", images, loop=1000)"
   ]
  }
 ],
 "metadata": {
  "kernelspec": {
   "display_name": "Python 3 (ipykernel)",
   "language": "python",
   "name": "python3"
  },
  "language_info": {
   "codemirror_mode": {
    "name": "ipython",
    "version": 3
   },
   "file_extension": ".py",
   "mimetype": "text/x-python",
   "name": "python",
   "nbconvert_exporter": "python",
   "pygments_lexer": "ipython3",
   "version": "3.12.3"
  }
 },
 "nbformat": 4,
 "nbformat_minor": 5
}
