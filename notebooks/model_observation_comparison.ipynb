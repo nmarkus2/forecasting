{
 "cells": [
  {
   "cell_type": "markdown",
   "metadata": {},
   "source": [
    "<img src=\"https://www.fisheries.noaa.gov/s3//styles/full_width/s3/dam-migration/3753x2502-block-island-wind-farm.png?itok=JvJksTwd\" width=281 alt=\"Wind Turbines\"></img> <img src=\"https://psl.noaa.gov/data/obs/instruments/Radar915PhasedArrayAntenna.jpg\" width=260 alt=\"RWP\"></img> <img src=\"https://psl.noaa.gov/data/obs/sites/images/bid/bid1.jpg\" width=250.5 alt=\"RWP Site\"></img>"
   ]
  },
  {
   "cell_type": "markdown",
   "metadata": {},
   "source": [
    "# Comparing Model Wind Data to Observed Wind Data"
   ]
  },
  {
   "cell_type": "markdown",
   "metadata": {},
   "source": [
    "---"
   ]
  },
  {
   "cell_type": "markdown",
   "metadata": {
    "jp-MarkdownHeadingCollapsed": true
   },
   "source": [
    "## Overview\n",
    "Numerical weather models play an important role in forecasting weather conditions.  They are a useful tool for understanding physical processes at local, regional, and global scales.  In this notebook, we will be able to examine the use of numerical weather prediction (NWP) using a real-world project as an example.  Users of this notebook will be introduced to the third Wind Forecasting Improvement Project (WFIP3) and its use of the High-Resolution Rapid Refresh (HRRR) NWP model to help in forecasting wind energy for offshore wind farms in the northeast.  Users will also gain experience using Herbie to download model data as well as working with observed radar wind profiler and sodar data (from NOAA's Physical Sciences Laboratory and Argonne National Laboratory).  \n",
    "\n",
    "Topics in this notebook include:\n",
    "1. Brief Discussion of the WFIP3 Project\n",
    "1. Downloading and Plotting Model Data with Herbie\n",
    "1. Downloading and Plotting Observed Wind Data\n",
    "1. Comparing Model and Observed Data"
   ]
  },
  {
   "cell_type": "markdown",
   "metadata": {},
   "source": [
    "## Prerequisites\n",
    "\n",
    "This notebook will involve use of Herbie and the Atmospheric Community Toolkit (ACT) to download/read in data.  It also relies on MetPy to handle a couple calculations and MatPlotLib for plotting purposes.\n",
    "\n",
    "| Concepts | Importance | Notes |\n",
    "| --- | --- | --- |\n",
    "| ACT | Necessary | |\n",
    "| Herbie | Necessary | |\n",
    "| MetPy | Helpful | |\n",
    "| NumPy | Helpful | |\n",
    "| MatPlotLib | Necessary | | \n",
    "| Xarray | Helpful | |\n",
    "| CartoPy | Helpful | |\n",
    "\n",
    "- **Time to learn**: 60 Minutes\n",
    "- **System requirements** (Preferably the latest version of each):\n",
    "    - Python\n",
    "    - ACT\n",
    "    - MetPy\n",
    "    - Herbie\n",
    "    - NumPy\n",
    "    - MatPlotLib\n",
    "    - Xarray\n",
    "    - Datetime\n",
    "    - CartoPy\n",
    "    - IPython\n",
    "    - Imageio V2"
   ]
  },
  {
   "cell_type": "markdown",
   "metadata": {},
   "source": [
    "---"
   ]
  },
  {
   "cell_type": "markdown",
   "metadata": {},
   "source": [
    "## Imports"
   ]
  },
  {
   "cell_type": "code",
   "execution_count": null,
   "metadata": {},
   "outputs": [],
   "source": [
    "import act\n",
    "import xarray as xr\n",
    "from herbie import Herbie\n",
    "import matplotlib.pyplot as plt\n",
    "import cartopy.crs as ccrs\n",
    "import cartopy.feature as cfeature\n",
    "import numpy as np\n",
    "import metpy.calc as mpcalc\n",
    "from metpy.units import units\n",
    "from datetime import datetime, timedelta\n",
    "import imageio.v2 as imageio\n",
    "from IPython.display import display, Image as IPImage\n",
    "import warnings\n",
    "warnings.simplefilter('ignore')"
   ]
  },
  {
   "cell_type": "markdown",
   "metadata": {},
   "source": [
    "## Brief Discussion of the WFIP3 Project"
   ]
  },
  {
   "cell_type": "markdown",
   "metadata": {},
   "source": [
    "The third edition of the Wind Forecasting Improvement Project (WFIP3) deals with exploring our offshore wind resource and seeing what oceanic and atmospheric processes affect the availability of it.  Funded by the Department of Energy (DOE), this project aims to use several deployed sensors to measure low-level winds (i.e., those closer to the hub height of a wind turbine) and boundary layer characteristics.  From this, the goal is to better understand the oceanic and atmospheric processes taking place, as well as have a comparison to numerical model data.  This will help us to see what might cause inaccuracies in model wind forecasting, and allow us to improve upon such models for better wind energy and power output forecasts.  More information can be found on the [DOE's Atmosphere to Electrons page](https://a2e.energy.gov/project/wfip3). "
   ]
  },
  {
   "cell_type": "markdown",
   "metadata": {},
   "source": [
    "---"
   ]
  },
  {
   "cell_type": "markdown",
   "metadata": {},
   "source": [
    "## Downloading and Plotting Model Data with Herbie"
   ]
  },
  {
   "cell_type": "markdown",
   "metadata": {},
   "source": [
    "We will begin by first looking at model data using a module called Herbie.  Herbie allows us to retrieve archived data from several models, but we will be focusing on the HRRR model.  For now let's just focus on the 24-hour forecast.  You will be asked to input a year, month, and day."
   ]
  },
  {
   "cell_type": "code",
   "execution_count": null,
   "metadata": {},
   "outputs": [],
   "source": [
    "#For best results, try  dates within the range 04/17/2024-05/15/2024 \n",
    "yr=input('Year (yyyy):')\n",
    "m=input('Month (mm):')\n",
    "dd=input('Day (dd):')\n",
    "fmt = '%Y.%m.%d'\n",
    "date = f'{yr}.{m}.{dd}'\n",
    "dt = datetime.strptime(date, fmt)\n",
    "tt = dt.timetuple()\n",
    "day_of_year = tt.tm_yday\n",
    "fh=[]\n",
    "step=[]\n",
    "H=[]\n",
    "ds=[]\n",
    "for a in range(0, 25):\n",
    "    step.append(a*3600000000000)\n",
    "    #Create a list of the forecast hours in \"HH\" format, this allows\n",
    "    #for saving all images in order later for creating the gif\n",
    "    if a <10:\n",
    "        fh.append(f'0{a}')\n",
    "    else:\n",
    "        fh.append(f'{a}')\n",
    "    H.append(Herbie(f\"{yr}-{m}-{dd}\",  # model run date\n",
    "        model=\"hrrr\",  # model name\n",
    "        product=\"prs\", #product\n",
    "        fxx=a,  # forecast lead time\n",
    "              ))\n",
    "    #Keep level set to 1000 mb since that's the closest level to the observed data\n",
    "    ds.append(H[a].xarray(f\":1000 mb:\", remove_grib=False))\n",
    "    ds[a]['wspd'] = (('y', 'x'), (mpcalc.wind_speed(ds[a].u.values*units.meter/units.second, \n",
    "                                                    ds[a].v.values*units.meter/units.second)).m)\n",
    "    ds[a].wspd.attrs['long_name'] = 'Wind Speed'\n",
    "    ds[a]['wdir'] = (('y', 'x'), (mpcalc.wind_direction(ds[a].u.values*units.meter/units.second, \n",
    "                                                        ds[a].v.values*units.meter/units.second)).m)\n",
    "    ds[a].wdir.attrs['long_name'] = 'Wind Direction'"
   ]
  },
  {
   "cell_type": "code",
   "execution_count": null,
   "metadata": {},
   "outputs": [],
   "source": [
    "#Here we combine the list of datasets to make them easier to work with\n",
    "ds = xr.concat(ds, dim=step)\n",
    "ds"
   ]
  },
  {
   "cell_type": "markdown",
   "metadata": {},
   "source": [
    "### Subsetting for Three Sites\n",
    "Here we will subset the data to only three observation sites:"
   ]
  },
  {
   "cell_type": "code",
   "execution_count": null,
   "metadata": {},
   "outputs": [],
   "source": [
    "#We want to find the data at a certain lat/lon point\n",
    "#Coordinates:\n",
    "#Rhode Island: 41.4456, -71.4357\n",
    "#Sodar: 41.2453, -70.105\n",
    "#Block Island: 41.17, -71.58\n",
    "lat1, lon1 = 41.4456, -71.4357\n",
    "lat2, lon2 = 41.2453, -70.105\n",
    "lat3, lon3 = 41.17, -71.58\n",
    "lat = [lat1, lat2, lat3]\n",
    "lon = [lon1, lon2, lon3]\n",
    "point_ds=[]\n",
    "ds['longitude'] = (ds['longitude'] + 180) % 360 - 180\n",
    "for b in range(0, 3):\n",
    "    # First, find the index of the grid point nearest a specific lat/lon\n",
    "    abslat = np.abs(ds.latitude-lat[b])\n",
    "    abslon = np.abs(ds.longitude-lon[b])\n",
    "    c = np.maximum(abslon, abslat)\n",
    "    ([yloc], [xloc]) = np.where(c == np.min(c))\n",
    "    # Now we can use that index location to get the values at the x/y diminsion\n",
    "    point_ds.append(ds.sel(x=xloc, y=yloc))\n",
    "rhod_model = point_ds[0]\n",
    "sodar_model = point_ds[1]\n",
    "block_model = point_ds[2]"
   ]
  },
  {
   "cell_type": "markdown",
   "metadata": {},
   "source": [
    "### Plotting the Data\n",
    "Now it's time to plot the variables.  First we will look at wind speed:"
   ]
  },
  {
   "cell_type": "code",
   "execution_count": null,
   "metadata": {},
   "outputs": [],
   "source": [
    "#Create \"Peak power\" and 'Cut-out\" to allow us to have a better visual of model error\n",
    "peak_power=[]\n",
    "for d in range(0, 25):\n",
    "    peak_power.append(14)\n",
    "cut_out=[]\n",
    "for d in range(0, 25):\n",
    "    cut_out.append(24.5)"
   ]
  },
  {
   "cell_type": "code",
   "execution_count": null,
   "metadata": {},
   "outputs": [],
   "source": [
    "#Set the fontsize for all figures\n",
    "plt.rcParams[\"axes.titlesize\"] = 23\n",
    "plt.rcParams[\"axes.labelsize\"] = 20\n",
    "plt.rcParams[\"legend.fontsize\"] = 14\n",
    "plt.rcParams[\"xtick.labelsize\"] = 16\n",
    "plt.rcParams[\"ytick.labelsize\"] = 16"
   ]
  },
  {
   "cell_type": "code",
   "execution_count": null,
   "metadata": {
    "scrolled": true
   },
   "outputs": [],
   "source": [
    "plt.figure(figsize=(15, 8))\n",
    "ax = plt.subplot(111)\n",
    "ax.plot(rhod_model.valid_time, rhod_model.wspd, label='Rhode Island RWP')\n",
    "ax.plot(sodar_model.valid_time, sodar_model.wspd, color='red', label='Sodar')\n",
    "ax.plot(block_model.valid_time, block_model.wspd, color='orange', label='Block Island RWP')\n",
    "ax.plot(rhod_model.valid_time, peak_power, color='green', linestyle='dashed', \n",
    "        label='Speed Required for Peak Power')\n",
    "ax.plot(rhod_model.valid_time, cut_out, color='purple', linestyle='dashed', label='Cut-Out Speed')\n",
    "ax.set_title(f'00 UTC HRRR 1000 mb Forecast Wind Speed')\n",
    "ax.set_ylabel('Speed (m/s)')\n",
    "ax.set_ylim(0, 30)\n",
    "ax.set_xlabel('Time')\n",
    "ax.legend()\n",
    "plt.savefig(f'../../../Downloads/{yr}{m}{dd}_HRRRspd.png', bbox_inches='tight', dpi=150)"
   ]
  },
  {
   "cell_type": "markdown",
   "metadata": {},
   "source": [
    "And now wind direction:"
   ]
  },
  {
   "cell_type": "code",
   "execution_count": null,
   "metadata": {
    "scrolled": true
   },
   "outputs": [],
   "source": [
    "plt.figure(figsize=(15, 8))\n",
    "ax = plt.subplot(111)\n",
    "ax.plot(rhod_model.valid_time, rhod_model.wdir, label = 'Rhode Island RWP')\n",
    "ax.plot(sodar_model.valid_time, sodar_model.wdir, color='red', label='Sodar')\n",
    "ax.plot(block_model.valid_time, block_model.wdir, color='orange', label='Block Island RWP')\n",
    "ax.set_title(f'00 UTC HRRR 1000 mb Forecast Wind Direction')\n",
    "ax.set_ylabel('Direction (deg)')\n",
    "ax.set_ylim(0, 360)\n",
    "ax.set_xlabel('Time')\n",
    "ax.legend()\n",
    "plt.savefig(f'../../../Downloads/{yr}{m}{dd}_HRRRdir.png', bbox_inches='tight', dpi=150)"
   ]
  },
  {
   "cell_type": "markdown",
   "metadata": {},
   "source": [
    "\n",
    "## Downloading and Plotting Observed Wind Data\n",
    "We have our model data downloaded and plotted, now it's time to do the same with our observed data from the wind profilers and sodar.  **NOTE:** If an error occurs here, it is likely due to the datafile for your date of choice not being available for one or more instruments.  You might have to go back a few times and try different dates.  Yes, it can get frustrating."
   ]
  },
  {
   "cell_type": "code",
   "execution_count": null,
   "metadata": {},
   "outputs": [],
   "source": [
    "#Read in the Rhode Island Data\n",
    "ds1, ds2 = act.io.read_psl_wind_profiler(f\"../data/rhod-rwp-raw/rhod.rwp.z01.00.{yr}{m}{dd}.000000.winds.cns\", \n",
    "                                         transpose=False)\n",
    "# Call the read_sodar function\n",
    "# More information on the sodar can be found here:\n",
    "# https://www.scintec.com/products/flat-array-sodar-mfas/\n",
    "ds3 = act.io.read_mfas_sodar(f'../data/nant-sodar-raw/nant.sodar.z01.00.{yr}{m}{dd}.000000.mnd')"
   ]
  },
  {
   "cell_type": "markdown",
   "metadata": {},
   "source": [
    "Reading in the Block Island data is a bit more complicated.  The NOAA PSL website has each hour of the day as its own dataset, so we must read each one in individually and then combine them into one big dataset.  Unfortunately, in this case the introduction of a third dimension (the concatenated time dimension) makes the data much harder to work with, so we will use the values from the combined dataset to create a new dataset with only time and height as dimensions. "
   ]
  },
  {
   "cell_type": "code",
   "execution_count": null,
   "metadata": {},
   "outputs": [],
   "source": [
    "#Read in the Block Island Data\n",
    "bid_files=[]\n",
    "bid_correct_files=[]\n",
    "bid_time=[]\n",
    "for f in range(0, 10):\n",
    "    bid_files.append(act.io.read_psl_wind_profiler(f\"https://downloads.psl.noaa.gov/psd2/data/realtime/Radar915/WwWind/bid/{yr}/{day_of_year}/bid{int(yr)-2000}{day_of_year}.0{f}w\", \n",
    "                                         transpose=False))\n",
    "    bid_correct_files.append(bid_files[f][0])\n",
    "    bid_time.append(bid_correct_files[f].time.values[0])\n",
    "for f in range(10, 24):\n",
    "    bid_files.append(act.io.read_psl_wind_profiler(f\"https://downloads.psl.noaa.gov/psd2/data/realtime/Radar915/WwWind/bid/{yr}/{day_of_year}/bid{int(yr)-2000}{day_of_year}.{f}w\", \n",
    "                                         transpose=False))\n",
    "    bid_correct_files.append(bid_files[f][0])\n",
    "    bid_time.append(bid_correct_files[f].time.values[0])\n",
    "\n",
    "bid_data = xr.concat(bid_correct_files, dim=bid_time)\n",
    "\n",
    "bid_SPD=[]\n",
    "bid_DIR=[]\n",
    "for g in range(0, 24):\n",
    "    bid_SPD.append(bid_data.SPD[g].values[g])\n",
    "    bid_DIR.append(bid_data.DIR[g].values[g])\n",
    "    \n",
    "ds4 = xr.Dataset(\n",
    "    data_vars=dict(\n",
    "        SPD = ([\"time\", \"HT\"], bid_SPD),\n",
    "        DIR = ([\"time\", \"HT\"], bid_DIR),\n",
    "        U = ([\"time\", \"HT\"], -(bid_SPD*np.sin(np.deg2rad(bid_DIR)))),\n",
    "        V = ([\"time\", \"HT\"], -(bid_SPD*np.cos(np.deg2rad(bid_DIR))))\n",
    "    ),\n",
    "    coords=dict(\n",
    "        time = bid_time,\n",
    "        HT = bid_data.HT.values\n",
    "    ))"
   ]
  },
  {
   "cell_type": "markdown",
   "metadata": {},
   "source": [
    "### Interpolating and Subsetting\n",
    "The wind profiler data has a much lower resolution than the SODAR data, and is much more heavily dependent on large scatterers.  Because of this dependency, much of the data for specific height levels will return as \"nan\" and will not plot.  We first need to interpolate with respect to time and height so that both the profiler and SODAR data have the same time and height intervals.  Then, we will subset each dataset so that they all pull data from the same height.  Finally, we will interpolate using the actual data values for wind speed and direction to eliminate all \"nan\" values and get the data to plot."
   ]
  },
  {
   "cell_type": "code",
   "execution_count": null,
   "metadata": {},
   "outputs": [],
   "source": [
    "#Create the time ranges for time interpolation using our input date\n",
    "def create_time_ranges(start, end, interval_minutes):\n",
    "    current_time = start\n",
    "    while current_time < end:\n",
    "        yield current_time\n",
    "        current_time += timedelta(minutes=interval_minutes)\n",
    "start_time = datetime(int(yr), int(m), int(dd), 0, 0)  #start time\n",
    "end_time = start_time+timedelta(1.001)  #end time\n",
    "interval_minutes = 60  #interval in minutes\n",
    "sodar_int_minutes = 10\n",
    "time_intervals = list(create_time_ranges(start_time, end_time, interval_minutes))\n",
    "sodar_intervals = list(create_time_ranges(start_time, end_time, sodar_int_minutes))\n",
    "#Interpolate in for height and time\n",
    "ds1_interp_height = ds1.interp(HT=np.arange(0, 6, .01), kwargs={\"fill_value\": \"extrapolate\"}, method='nearest')\n",
    "ds4_interp_height = ds4.interp(HT=np.arange(0, 6, .01), kwargs={\"fill_value\": \"extrapolate\"}, method='nearest')\n",
    "ds1_interp_time = ds1_interp_height.interp(time=time_intervals, kwargs={\"fill_value\": \"extrapolate\"}, method='nearest')\n",
    "ds3_interp_time = ds3.interp(time=sodar_intervals, kwargs={\"fill_value\": \"extrapolate\"}, method='nearest')\n",
    "ds4_interp_time = ds4_interp_height.interp(time=time_intervals, kwargs={\"fill_value\": \"extrapolate\"}, method='nearest')\n",
    "\n",
    "#Subset the data to a single height\n",
    "ds1_height=ds1_interp_time.sel(HT=0.18)\n",
    "ds3_height=ds3_interp_time.sel(height = 180)\n",
    "ds4_height=ds4_interp_time.sel(HT=0.18)\n",
    "\n",
    "#Create a definition function to eliminate NaNs\n",
    "y = [ds1_height.SPD.values, ds3_height.speed.values, ds4_height.SPD.values,\n",
    "     ds1_height.DIR.values, ds3_height.dir.values, ds4_height.DIR.values,\n",
    "     ds1_height.U.values, ds3_height.U.values, ds4_height.U.values,\n",
    "     ds1_height.V.values, ds3_height.V.values, ds4_height.V.values]\n",
    "def nan_helper(y):\n",
    "    nans = np.isnan(y)\n",
    "    index = lambda z: z.nonzero()[0]\n",
    "    return nans, index\n",
    "#Interpolate NaNs\n",
    "for h in range(0, 12):\n",
    "    nans, x = nan_helper(y[h])\n",
    "    y[h][nans] = np.interp(x(nans), x(~nans), y[h][~nans])"
   ]
  },
  {
   "cell_type": "markdown",
   "metadata": {},
   "source": [
    "### Plotting\n",
    "We can now plot the data.  Again, we will plot wind speed first:"
   ]
  },
  {
   "cell_type": "code",
   "execution_count": null,
   "metadata": {
    "scrolled": true
   },
   "outputs": [],
   "source": [
    "plt.figure(1, figsize=(15, 8))\n",
    "ax=plt.subplot(111)\n",
    "ax.plot(ds1_height.time, ds1_height.SPD, label='Rhode Island RWP')\n",
    "ax. plot(ds3_height.time, ds3_height.speed, color='red', label='Sodar')\n",
    "ax.plot(ds4_height.time, ds4_height.SPD, color='orange', label='Block Island RWP')\n",
    "ax.plot(rhod_model.valid_time, peak_power, color='green', linestyle='dashed', \n",
    "        label='Speed Required for Peak Power')\n",
    "ax.plot(rhod_model.valid_time, cut_out, color='purple', linestyle='dashed', label='Cut-Out Speed')\n",
    "ax.set_title(f'Observed 180 m Wind Speed')\n",
    "ax.set_ylabel('Speed (m/s)')\n",
    "ax.set_ylim(0, 30)\n",
    "ax.set_xlabel('Time')\n",
    "ax.legend()\n",
    "plt.savefig(f'../../../Downloads/{yr}{m}{dd}_Obsspd.png', bbox_inches='tight', dpi=150)"
   ]
  },
  {
   "cell_type": "markdown",
   "metadata": {},
   "source": [
    "And once again, wind direction:"
   ]
  },
  {
   "cell_type": "code",
   "execution_count": null,
   "metadata": {
    "scrolled": true
   },
   "outputs": [],
   "source": [
    "plt.figure(1, figsize=(15, 8))\n",
    "ax = plt.subplot(111)\n",
    "ax.plot(ds1_height.time, ds1_height.DIR, label='Rhode Island RWP')\n",
    "ax.plot(ds3_height.time, ds3_height.dir, color='red', label='Sodar')\n",
    "ax.plot(ds4_height.time, ds4_height.DIR, color='orange', label='Block Island RWP')\n",
    "ax.set_title(f'Observed 180 m Wind Direction')\n",
    "ax.set_ylabel('Direction (deg)')\n",
    "ax.set_ylim(0, 360)\n",
    "ax.set_xlabel('Time')\n",
    "ax.legend()\n",
    "plt.savefig(f'../../../Downloads/{yr}{m}{dd}_Obsdir.png', bbox_inches='tight', dpi=150)"
   ]
  },
  {
   "cell_type": "markdown",
   "metadata": {},
   "source": [
    "## Comparing Model and Observed Data\n",
    "\n",
    "Here is the good stuff.  This is where we put everything together, looking at both the model and observed wind data on the same graph.  We will focus on just the wind speed data.  Although a significant difference in wind direction may indicate some sort of error with the model, we won't focus on it too much since wind turbines can rotate to work from any direction."
   ]
  },
  {
   "cell_type": "code",
   "execution_count": null,
   "metadata": {
    "scrolled": true
   },
   "outputs": [],
   "source": [
    "plt.figure(1, figsize=(14, 24))\n",
    "ax=plt.subplot(311)\n",
    "ax.plot(ds1_height.time, ds1_height.SPD, color='black', label='Obs')\n",
    "ax.plot(rhod_model.valid_time, rhod_model.wspd, color='red', label='HRRR')\n",
    "ax.plot(rhod_model.valid_time, peak_power, color='green', linestyle='dashed', \n",
    "        label='Speed Required for Peak Power')\n",
    "ax.plot(rhod_model.valid_time, cut_out, color='purple', linestyle='dashed', label='Cut-Out Speed')\n",
    "ax.set_title(f'Compared Wind Speed at Rhode Island site')\n",
    "ax.set_ylabel('Speed (m/s)')\n",
    "ax.set_ylim(0, 30)\n",
    "ax.set_xlabel('Time')\n",
    "ax.legend(loc='upper right')\n",
    "ax=plt.subplot(312)\n",
    "ax.plot(ds3_height.time, ds3_height.speed, color='black', label='Obs')\n",
    "ax.plot(sodar_model.valid_time, sodar_model.wspd, color='red', label='HRRR')\n",
    "ax.plot(sodar_model.valid_time, peak_power, color='green', linestyle='dashed', \n",
    "        label='Speed Required for Peak Power')\n",
    "ax.plot(sodar_model.valid_time, cut_out, color='purple', linestyle='dashed', label='Cut-Out Speed')\n",
    "ax.set_title(f'Compared Wind Speed at Nantucket site')\n",
    "ax.set_ylabel('Speed (m/s)')\n",
    "ax.set_ylim(0, 30)\n",
    "ax.set_xlabel('Time')\n",
    "ax.legend(loc='upper right')\n",
    "ax=plt.subplot(313)\n",
    "ax.plot(ds4_height.time, ds4_height.SPD, color='black', label='Obs')\n",
    "ax.plot(block_model.valid_time, block_model.wspd, color='red', label='HRRR')\n",
    "ax.plot(block_model.valid_time, peak_power, color='green', linestyle='dashed', \n",
    "        label='Speed Required for Peak Power')\n",
    "ax.plot(block_model.valid_time, cut_out, color='purple', linestyle='dashed', label='Cut-Out Speed')\n",
    "ax.set_title(f'Compared Wind Speed at Block Island site')\n",
    "ax.set_ylabel('Speed (m/s)')\n",
    "ax.set_ylim(0, 30)\n",
    "ax.set_xlabel('Time')\n",
    "ax.legend(loc='upper right')\n",
    "plt.savefig(f'../../../Downloads/{yr}{m}{dd}_Comparisonspd.png', bbox_inches='tight', dpi=150)"
   ]
  },
  {
   "cell_type": "markdown",
   "metadata": {},
   "source": [
    "### Plotting Model Error"
   ]
  },
  {
   "cell_type": "code",
   "execution_count": null,
   "metadata": {},
   "outputs": [],
   "source": [
    "#Model data and observed sodar data have different temporal resolution, \n",
    "#so we will once again have to do a time interpolation \n",
    "sodar_spd=[]\n",
    "for g in range(0, 24):\n",
    "    for i in range(0,6):\n",
    "        sodar_spd.append(sodar_model.wspd.values[g])\n",
    "sodar_spd.append(sodar_model.wspd.values[24])\n",
    "#Create a \"zero line\" to allow us to have a better visual of model error\n",
    "zero_line=[]\n",
    "#We need a different zero line for the sodar data since it has a different length\n",
    "zero_line_sodar=[]\n",
    "for a in range(0, 25):\n",
    "    zero_line.append(0)\n",
    "for j in range(0, 145):\n",
    "    zero_line_sodar.append(0)"
   ]
  },
  {
   "cell_type": "markdown",
   "metadata": {},
   "source": [
    "We will calculate the model bias and root mean square error to give us quantitative values of error to go along with the plots."
   ]
  },
  {
   "cell_type": "code",
   "execution_count": null,
   "metadata": {},
   "outputs": [],
   "source": [
    "#Calculate Model Bias\n",
    "rhod_bias = np.mean(rhod_model.wspd.values-ds1_height.SPD).values\n",
    "sodar_bias = np.mean(sodar_spd-ds3_height.speed).values\n",
    "block_bias = np.mean(block_model.wspd.values-ds4_height.SPD).values\n",
    "\n",
    "#Calculate Root Mean Square Error\n",
    "rhod_rmse = np.sqrt(np.mean((rhod_model.wspd.values-ds1_height.SPD)**2).values)\n",
    "sodar_rmse = np.sqrt(np.mean((sodar_spd-ds3_height.speed)**2).values)\n",
    "block_rmse = np.sqrt(np.mean((block_model.wspd.values-ds4_height.SPD)**2).values)"
   ]
  },
  {
   "cell_type": "code",
   "execution_count": null,
   "metadata": {
    "scrolled": true
   },
   "outputs": [],
   "source": [
    "#And now we plot\n",
    "plt.figure(1, figsize = (14, 24))\n",
    "ax = plt.subplot(311)\n",
    "ax.plot(ds1_height.time, rhod_model.wspd.values-ds1_height.SPD, color='red', label='Model-Obs')\n",
    "ax.plot(ds1_height.time, zero_line, color='black')\n",
    "ax.set_title(f'Speed Error at Rhode Island Site'\n",
    "             f' (Bias: {(rhod_bias):.2f} m/s,   RMSE: {(rhod_rmse):.2f} m/s)')\n",
    "ax.set_ylabel('Model Error (m/s)')\n",
    "ax.set_ylim(-10, 10)\n",
    "ax.set_xlabel('Time')\n",
    "ax.legend()\n",
    "ax = plt.subplot(312)\n",
    "ax.plot(ds3_height.time, sodar_spd-ds3_height.speed, color='red', label='Model-Obs')\n",
    "ax.plot(ds3_height.time, zero_line_sodar, color='black')\n",
    "ax.set_title(f'Speed Error at Nantucket Site'\n",
    "             f' (Bias: {(sodar_bias):.2f} m/s,   RMSE: {(sodar_rmse):.2f} m/s)')\n",
    "ax.set_ylabel('Model Error (m/s)')\n",
    "ax.set_ylim(-10, 10)\n",
    "ax.set_xlabel('Time')\n",
    "ax.legend()\n",
    "ax = plt.subplot(313)\n",
    "ax.plot(ds4_height.time, block_model.wspd.values-ds4_height.SPD, color='red', label='Model-Obs')\n",
    "ax.plot(ds4_height.time, zero_line, color='black')\n",
    "ax.set_title(f'Speed Error at Block Island Site'\n",
    "             f' (Bias: {(block_bias):.2f} m/s,   RMSE: {(block_rmse):.2f} m/s)')\n",
    "ax.set_ylabel('Model Error (m/s)')\n",
    "ax.set_ylim(-10, 10)\n",
    "ax.set_xlabel('Time')\n",
    "ax.legend()\n",
    "plt.savefig(f'../../../Downloads/{yr}{m}{dd}_SPDerror.png', bbox_inches='tight', dpi=150)"
   ]
  },
  {
   "cell_type": "markdown",
   "metadata": {},
   "source": [
    "### Wind Barb Comparison\n",
    "Rather than plotting a time series graph, we will instead create a series of images where we plot the wind barbs to have a better visual idea of how well the model performed in terms of wind direction.  The code is set to save the individual images to create the output gif."
   ]
  },
  {
   "cell_type": "code",
   "execution_count": null,
   "metadata": {
    "scrolled": true
   },
   "outputs": [],
   "source": [
    "plt.rcParams[\"axes.titlesize\"] = 14\n",
    "for a in range(0, 25):\n",
    "    fig = plt.figure(1, figsize=(15, 15))\n",
    "    ax = plt.subplot(111, projection=ccrs.PlateCarree())\n",
    "    ax.set_extent([-72, -69.75, 40.75, 42]), ccrs.PlateCarree()\n",
    "    cf = ax.contourf(ds.longitude, ds.latitude, ds.sel(concat_dim=step[a]).wspd, \n",
    "                     np.arange(0, 31, 2), cmap=plt.cm.BuPu)\n",
    "    plt.colorbar(cf, orientation='horizontal', pad=0, aspect=50)\n",
    "    ax.barbs(lon1, lat1, rhod_model.u[a], rhod_model.v[a], color = 'red', length = 10)\n",
    "    ax.barbs(lon2, lat2, sodar_model.u[a], sodar_model.v[a], color = 'red', length = 10)\n",
    "    ax.barbs(lon3, lat3, block_model.u[a], block_model.v[a], color = 'red', length = 10)\n",
    "    ax.barbs(lon1, lat1, ds1_height.U[a], ds1_height.V[a], color = 'blue', length = 10)\n",
    "    ax.barbs(lon2, lat2, ds3_height.U[a*6], ds3_height.V[a*6], color = 'blue', length = 10)\n",
    "    ax.barbs(lon3, lat3, ds4_height.U[a], ds4_height.V[a], color = 'blue', length = 10)\n",
    "    ax.add_feature(cfeature.COASTLINE.with_scale('50m'))\n",
    "    ax.add_feature(cfeature.STATES.with_scale('50m'))\n",
    "    ax.set_title(f'Time: {yr}-{m}-{dd}   00 UTC HRRR FH {a} 1000 mb Wind Speed (cfill)' \n",
    "                 f' and Wind Barbs (red) VS Obs Wind Barbs (blue) ')\n",
    "    #plt.show()\n",
    "    plt.savefig(f'../../../Downloads/{yr}{m}{dd}_FH_{fh[a]}_windbarbcomp.png', bbox_inches='tight', dpi=150)\n",
    "    plt.close()"
   ]
  },
  {
   "cell_type": "code",
   "execution_count": null,
   "metadata": {},
   "outputs": [],
   "source": [
    "filenames = []\n",
    "for a in range(0, 25):\n",
    "    filenames.append(open(f\"../../../Downloads/{yr}{m}{dd}_FH_{fh[a]}_windbarbcomp.png\", 'rb'))\n",
    "    \n",
    "# Create Gif\n",
    "images = [imageio.imread(filename) for filename in filenames]\n",
    "imageio.mimsave(f\"../../../Downloads/{yr}{m}{dd}_loop_windbarbcomp.gif\", \n",
    "                images, duration=500, loop=1000)\n",
    "#Show Gif\n",
    "with open(f\"../../../Downloads/{yr}{m}{dd}_loop_windbarbcomp.gif\", 'rb') as f:\n",
    "    display(IPImage(data=f.read(), format='gif'))"
   ]
  },
  {
   "cell_type": "markdown",
   "metadata": {},
   "source": [
    "## Summary\n",
    "Now that we have all of our plots, take a close look at them.  How did the HRRR perform on your day of choice?  Did it verify?  Was the forecast a complete bust?  Was there a part of the day where it did good and then another part where it wasn't so good?  How about between sites? Did one site perform better than another?  Was there a site that was an outlier?  Think about why this could be, and what atmospheric/oceanic processes (or lack thereof) might contribute to what you are seeing. You might also want to look at archived weather maps for this day to help you out in determining what processes were going on that day.  \n",
    "\n",
    "### What's next?\n",
    "Run the notebook again, but choose a different date this time.  Try to answer the above questions again.  Then, compare the two dates.  Which day saw a better performance from the HRRR?  Why might this be?  Try several different dates and compare them to each other.  See if you can find a day where the HRRR performed great with minimal error, one where there was a little more error, and one where there was a complete forecast bust (large error).  Try to find several days where the HRRR had minimal error (in other words, the forecast generally verified).  What are some similarities between them? How about the days with forecast busts?  Finally, think about what this means for wind energy in general.  Is the HRRR generally a good source of guidance for helping to predict power output?  What are the processes that the model would have to do a better job of picking up on to improve forecasts?"
   ]
  },
  {
   "cell_type": "markdown",
   "metadata": {},
   "source": [
    "---"
   ]
  },
  {
   "cell_type": "markdown",
   "metadata": {},
   "source": [
    "### Resources and references\n",
    "**WFIP3 Project Info**\n",
    "\n",
    "Krishnamurthy, R., Kirincich, A., & Turner, D. (2021). The Wind Forecasting Improvement Project 3 (WFIP-3). Atmosphere to Electrons. https://a2e.energy.gov/project/wfip3. Accessed 28 June 2024 \n",
    "\n",
    "**Observed Data**\n",
    "\n",
    "Block Island Data:\n",
    "\n",
    "Physical Sciences Laboratory, NOAA. (2023, November 9). NOAA PSL Block Island Radar Wind Profiler Data. Boulder, CO: 325 Broadway. https://downloads.psl.noaa.gov/psd2/data/realtime/Radar915/WwWind/bid/ Accessed 28 06 2024.\n",
    "\n",
    "Rhode Island Data:\n",
    "\n",
    "Atmosphere to Electrons (A2e). 2024. wfip3/rhod.rwp.z01.00. Maintained by A2e Data Archive and Portal for U.S. Department of Energy, Office of Energy Efficiency and Renewable Energy. DOI: 10.21947/2229548. Accessed: 28 06 2024.\n",
    "\n",
    "Sodar Data:\n",
    "\n",
    "Atmosphere to Electrons (A2e). 2024. wfip3/nant.sodar.z01.00. Maintained by A2e Data Archive and Portal for U.S. Department of Energy, Office of Energy Efficiency and Renewable Energy. DOI: 10.21947/2234008. Accessed: 28 06 2024.\n",
    "\n",
    "**Other Relevant Sources**\n",
    "\n",
    "Bianco, L., Muradyan, P., Djalalova, I. et al. Comparison of Observations and Predictions of Daytime Planetary-Boundary-Layer Heights and Surface Meteorological Variables in the Columbia River Gorge and Basin During the Second Wind Forecast Improvement Project. Boundary-Layer Meteorol 182, 147–172 (2022). https://doi.org/10.1007/s10546-021-00645-x\n",
    "\n",
    "Pichugina, Y. L., and Coauthors, 2019: Spatial Variability of Winds and HRRR–NCEP Model Error Statistics at Three Doppler-Lidar Sites in the Wind-Energy Generation Region of the Columbia River Basin. J. Appl. Meteor. Climatol., 58, 1633–1656, https://doi.org/10.1175/JAMC-D-18-0244.1.\n",
    "\n",
    "PSL Web Team, NOAA. (2024, February 15). Observation/model comparisons. Physical Sciences Laboratory. https://psl.noaa.gov/renewable_energy/wfip3/modelobs/. Accessed 28 June 2024 \n",
    "\n",
    "Wilczak, J., and Coauthors, 2015: The Wind Forecast Improvement Project (WFIP): A Public–Private Partnership Addressing Wind Energy Forecast Needs. Bull. Amer. Meteor. Soc., 96, 1699–1718, https://doi.org/10.1175/BAMS-D-14-00107.1."
   ]
  },
  {
   "cell_type": "code",
   "execution_count": null,
   "metadata": {},
   "outputs": [],
   "source": []
  }
 ],
 "metadata": {
  "kernelspec": {
   "display_name": "Python 3 (ipykernel)",
   "language": "python",
   "name": "python3"
  },
  "language_info": {
   "codemirror_mode": {
    "name": "ipython",
    "version": 3
   },
   "file_extension": ".py",
   "mimetype": "text/x-python",
   "name": "python",
   "nbconvert_exporter": "python",
   "pygments_lexer": "ipython3",
   "version": "3.12.3"
  },
  "nbdime-conflicts": {
   "local_diff": [
    {
     "diff": [
      {
       "diff": [
        {
         "key": 0,
         "op": "addrange",
         "valuelist": [
          "Python 3"
         ]
        },
        {
         "key": 0,
         "length": 1,
         "op": "removerange"
        }
       ],
       "key": "display_name",
       "op": "patch"
      }
     ],
     "key": "kernelspec",
     "op": "patch"
    }
   ],
   "remote_diff": [
    {
     "diff": [
      {
       "diff": [
        {
         "key": 0,
         "op": "addrange",
         "valuelist": [
          "Python3"
         ]
        },
        {
         "key": 0,
         "length": 1,
         "op": "removerange"
        }
       ],
       "key": "display_name",
       "op": "patch"
      }
     ],
     "key": "kernelspec",
     "op": "patch"
    }
   ]
  },
  "toc-autonumbering": false
 },
 "nbformat": 4,
 "nbformat_minor": 4
}
